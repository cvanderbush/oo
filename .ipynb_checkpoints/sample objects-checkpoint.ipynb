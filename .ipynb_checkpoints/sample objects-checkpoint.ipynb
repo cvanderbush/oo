{
 "cells": [
  {
   "cell_type": "code",
   "execution_count": 15,
   "metadata": {},
   "outputs": [],
   "source": [
    "class Person:\n",
    "    def __init__(self, first, last, idno):\n",
    "        self.firstName = first\n",
    "        self.lastName = last\n",
    "        self.idNumber = idno\n",
    "        \n",
    "    def printPerson(self):\n",
    "        print(\"Name: \", self.firstName, self.lastName)\n",
    "        print(\"ID: \", self.idNumber)"
   ]
  },
  {
   "cell_type": "code",
   "execution_count": 16,
   "metadata": {},
   "outputs": [],
   "source": [
    "Carl = Person(\"Carl\", \"Vanderbush\", 2345)"
   ]
  },
  {
   "cell_type": "code",
   "execution_count": 17,
   "metadata": {},
   "outputs": [
    {
     "name": "stdout",
     "output_type": "stream",
     "text": [
      "Name:  Carl Vanderbush\n",
      "ID:  2345\n"
     ]
    }
   ],
   "source": [
    "Carl.printPerson()"
   ]
  },
  {
   "cell_type": "code",
   "execution_count": 21,
   "metadata": {},
   "outputs": [],
   "source": [
    "class Student(Person):\n",
    "    def __init__(self, firstName, lastName, idNumber, scores):\n",
    "        Person.__init__(self, firstName, lastName, idNumber)\n",
    "        self.scores = scores\n",
    "    def calculate(self):\n",
    "        ave = sum(self.scores)/len(self.scores)\n",
    "        return ave\n",
    "    def printPerson(self):\n",
    "        print(\"Name:\", self.lastName, \"Grade: \", self.calculate())\n",
    "    "
   ]
  },
  {
   "cell_type": "code",
   "execution_count": 22,
   "metadata": {},
   "outputs": [],
   "source": [
    "Knut = Student(\"Knut\", \"Vanderbush\", 1234, [98,100,100,97,100])"
   ]
  },
  {
   "cell_type": "code",
   "execution_count": 23,
   "metadata": {},
   "outputs": [
    {
     "name": "stdout",
     "output_type": "stream",
     "text": [
      "Name: Vanderbush Grade:  99.0\n",
      "Grade average is  99.0\n"
     ]
    }
   ],
   "source": [
    "Knut.printPerson()\n",
    "print(\"Grade average is \", Knut.calculate())"
   ]
  },
  {
   "cell_type": "code",
   "execution_count": null,
   "metadata": {},
   "outputs": [],
   "source": []
  }
 ],
 "metadata": {
  "kernelspec": {
   "display_name": "Python 3",
   "language": "python",
   "name": "python3"
  },
  "language_info": {
   "codemirror_mode": {
    "name": "ipython",
    "version": 3
   },
   "file_extension": ".py",
   "mimetype": "text/x-python",
   "name": "python",
   "nbconvert_exporter": "python",
   "pygments_lexer": "ipython3",
   "version": "3.6.2"
  }
 },
 "nbformat": 4,
 "nbformat_minor": 2
}
